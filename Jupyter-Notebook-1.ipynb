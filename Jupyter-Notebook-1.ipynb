{
    "cells": [
        {
            "cell_type": "markdown",
            "metadata": {},
            "source": "This Program analyses the data for Historical Wildfires"
        },
        {
            "cell_type": "code",
            "execution_count": 1,
            "metadata": {},
            "outputs": [
                {
                    "data": {
                        "text/html": "<div>\n<style scoped>\n    .dataframe tbody tr th:only-of-type {\n        vertical-align: middle;\n    }\n\n    .dataframe tbody tr th {\n        vertical-align: top;\n    }\n\n    .dataframe thead th {\n        text-align: right;\n    }\n</style>\n<table border=\"1\" class=\"dataframe\">\n  <thead>\n    <tr style=\"text-align: right;\">\n      <th></th>\n      <th>Region</th>\n      <th>Date</th>\n      <th>Estimated_fire_area</th>\n      <th>Mean_estimated_fire_brightness</th>\n      <th>Mean_estimated_fire_radiative_power</th>\n      <th>Mean_confidence</th>\n      <th>Std_confidence</th>\n      <th>Var_confidence</th>\n      <th>Count</th>\n      <th>Replaced</th>\n    </tr>\n  </thead>\n  <tbody>\n    <tr>\n      <th>0</th>\n      <td>NSW</td>\n      <td>1/4/2005</td>\n      <td>8.68000</td>\n      <td>312.266667</td>\n      <td>42.400000</td>\n      <td>78.666667</td>\n      <td>2.886751</td>\n      <td>8.333333</td>\n      <td>3</td>\n      <td>R</td>\n    </tr>\n    <tr>\n      <th>1</th>\n      <td>NSW</td>\n      <td>1/5/2005</td>\n      <td>16.61125</td>\n      <td>322.475000</td>\n      <td>62.362500</td>\n      <td>85.500000</td>\n      <td>8.088793</td>\n      <td>65.428571</td>\n      <td>8</td>\n      <td>R</td>\n    </tr>\n    <tr>\n      <th>2</th>\n      <td>NSW</td>\n      <td>1/6/2005</td>\n      <td>5.52000</td>\n      <td>325.266667</td>\n      <td>38.400000</td>\n      <td>78.333333</td>\n      <td>3.214550</td>\n      <td>10.333333</td>\n      <td>3</td>\n      <td>R</td>\n    </tr>\n    <tr>\n      <th>3</th>\n      <td>NSW</td>\n      <td>1/7/2005</td>\n      <td>6.26400</td>\n      <td>313.870000</td>\n      <td>33.800000</td>\n      <td>92.200000</td>\n      <td>7.529940</td>\n      <td>56.700000</td>\n      <td>5</td>\n      <td>R</td>\n    </tr>\n    <tr>\n      <th>4</th>\n      <td>NSW</td>\n      <td>1/8/2005</td>\n      <td>5.40000</td>\n      <td>337.383333</td>\n      <td>122.533333</td>\n      <td>91.000000</td>\n      <td>7.937254</td>\n      <td>63.000000</td>\n      <td>3</td>\n      <td>R</td>\n    </tr>\n  </tbody>\n</table>\n</div>",
                        "text/plain": "  Region      Date  Estimated_fire_area  Mean_estimated_fire_brightness  \\\n0    NSW  1/4/2005              8.68000                      312.266667   \n1    NSW  1/5/2005             16.61125                      322.475000   \n2    NSW  1/6/2005              5.52000                      325.266667   \n3    NSW  1/7/2005              6.26400                      313.870000   \n4    NSW  1/8/2005              5.40000                      337.383333   \n\n   Mean_estimated_fire_radiative_power  Mean_confidence  Std_confidence  \\\n0                            42.400000        78.666667        2.886751   \n1                            62.362500        85.500000        8.088793   \n2                            38.400000        78.333333        3.214550   \n3                            33.800000        92.200000        7.529940   \n4                           122.533333        91.000000        7.937254   \n\n   Var_confidence  Count Replaced  \n0        8.333333      3        R  \n1       65.428571      8        R  \n2       10.333333      3        R  \n3       56.700000      5        R  \n4       63.000000      3        R  "
                    },
                    "execution_count": 1,
                    "metadata": {},
                    "output_type": "execute_result"
                }
            ],
            "source": "# The code was removed by Watson Studio for sharing."
        },
        {
            "cell_type": "code",
            "execution_count": null,
            "metadata": {},
            "outputs": [],
            "source": ""
        }
    ],
    "metadata": {
        "kernelspec": {
            "display_name": "Python 3.9",
            "language": "python",
            "name": "python3"
        },
        "language_info": {
            "codemirror_mode": {
                "name": "ipython",
                "version": 3
            },
            "file_extension": ".py",
            "mimetype": "text/x-python",
            "name": "python",
            "nbconvert_exporter": "python",
            "pygments_lexer": "ipython3",
            "version": "3.9.7"
        }
    },
    "nbformat": 4,
    "nbformat_minor": 1
}